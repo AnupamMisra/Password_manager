{
 "metadata": {
  "language_info": {
   "codemirror_mode": {
    "name": "ipython",
    "version": 3
   },
   "file_extension": ".py",
   "mimetype": "text/x-python",
   "name": "python",
   "nbconvert_exporter": "python",
   "pygments_lexer": "ipython3",
   "version": "3.7.9-final"
  },
  "orig_nbformat": 2,
  "kernelspec": {
   "name": "python379jvsc74a57bd0e97c287c42fc132257d90817e70d575c21da4b0dc09cc4a58070612fae18e2e2",
   "display_name": "Python 3.7.9 64-bit ('myenv': conda)"
  }
 },
 "nbformat": 4,
 "nbformat_minor": 2,
 "cells": [
  {
   "cell_type": "code",
   "execution_count": 1,
   "metadata": {},
   "outputs": [],
   "source": [
    "import backend\n",
    "import hashlib\n",
    "if __name__==\"__main__\":\n",
    "    en=input(\"Enter password \\t\\t\\t Enter * if you have forgot your password\")\n",
    "    if backend.check_pwd(en):\n",
    "        backend.console()\n",
    "    elif en==\"*\":\n",
    "        ans=input(\"Answer security question\")\n",
    "        backend.forgot_passwd(ans)\n",
    "    else:\n",
    "        exit "
   ]
  },
  {
   "cell_type": "code",
   "execution_count": null,
   "metadata": {},
   "outputs": [],
   "source": []
  }
 ]
}